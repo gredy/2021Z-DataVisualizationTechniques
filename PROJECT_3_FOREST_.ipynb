{
  "nbformat": 4,
  "nbformat_minor": 0,
  "metadata": {
    "colab": {
      "private_outputs": true,
      "provenance": [],
      "authorship_tag": "ABX9TyOKgb7Pwx81Sj3GOAmtqy3Y",
      "include_colab_link": true
    },
    "kernelspec": {
      "name": "python3",
      "display_name": "Python 3"
    },
    "language_info": {
      "name": "python"
    }
  },
  "cells": [
    {
      "cell_type": "markdown",
      "metadata": {
        "id": "view-in-github",
        "colab_type": "text"
      },
      "source": [
        "<a href=\"https://colab.research.google.com/github/gredy/2021Z-DataVisualizationTechniques/blob/master/PROJECT_3_FOREST_.ipynb\" target=\"_parent\"><img src=\"https://colab.research.google.com/assets/colab-badge.svg\" alt=\"Open In Colab\"/></a>"
      ]
    },
    {
      "cell_type": "markdown",
      "source": [
        "PROJECT # 3 FOREST PREDICTIONS\n"
      ],
      "metadata": {
        "id": "NCAB0mArr3K_"
      }
    },
    {
      "cell_type": "code",
      "source": [],
      "metadata": {
        "id": "48OrrH9LsPSh"
      },
      "execution_count": null,
      "outputs": []
    },
    {
      "cell_type": "markdown",
      "source": [
        "Section I CLEANING THE  DATA"
      ],
      "metadata": {
        "id": "rSeWU_LNr07p"
      }
    },
    {
      "cell_type": "markdown",
      "source": [
        "DATA EXPLORATION\n"
      ],
      "metadata": {
        "id": "PEPJRx2TEYmN"
      }
    },
    {
      "cell_type": "code",
      "execution_count": null,
      "metadata": {
        "id": "wteeSNP64WO0"
      },
      "outputs": [],
      "source": [
        "import pandas as pd\n",
        "import numpy as np\n",
        "import matplotlib.pyplot as plt\n",
        "import seaborn as sns"
      ]
    },
    {
      "cell_type": "code",
      "source": [
        "df=pd.read_csv('train.csv')\n",
        "df.head()"
      ],
      "metadata": {
        "id": "txTjSOJuEyji"
      },
      "execution_count": null,
      "outputs": []
    },
    {
      "cell_type": "code",
      "source": [
        "df.info()"
      ],
      "metadata": {
        "id": "sQ3noSxAF6p7"
      },
      "execution_count": null,
      "outputs": []
    },
    {
      "cell_type": "code",
      "source": [
        "print(df.shape)\n",
        "df.info()"
      ],
      "metadata": {
        "id": "AS3EU67ctMiG"
      },
      "execution_count": null,
      "outputs": []
    },
    {
      "cell_type": "markdown",
      "source": [
        "# **There are not missing values**!"
      ],
      "metadata": {
        "id": "HSlcYf7utnaD"
      }
    },
    {
      "cell_type": "code",
      "source": [
        "df.head()"
      ],
      "metadata": {
        "id": "ozjWKg4zt06Z"
      },
      "execution_count": null,
      "outputs": []
    },
    {
      "cell_type": "code",
      "source": [
        "df.drop('id',axis=1)"
      ],
      "metadata": {
        "id": "NUC8VdkPuKwX"
      },
      "execution_count": null,
      "outputs": []
    },
    {
      "cell_type": "markdown",
      "source": [
        "# CHECKING THE CLASS BALANCE OF THE DEPENDENT VARIABLE (TARGET) **LABEL**"
      ],
      "metadata": {
        "id": "icbRnB1buxCD"
      }
    },
    {
      "cell_type": "code",
      "source": [
        "df['label'].value_counts()"
      ],
      "metadata": {
        "id": "0wMHkIQ1vBzV"
      },
      "execution_count": null,
      "outputs": []
    },
    {
      "cell_type": "code",
      "source": [
        "df.describe()"
      ],
      "metadata": {
        "id": "v_S51bxpvUT_"
      },
      "execution_count": null,
      "outputs": []
    },
    {
      "cell_type": "markdown",
      "source": [
        "IDENTIFYING POSSIBLE OUTLIERS , COMPARING MAX AND Q3 ON EACH FEATURE"
      ],
      "metadata": {
        "id": "CZ2Cxf-lv-5O"
      }
    },
    {
      "cell_type": "code",
      "source": [],
      "metadata": {
        "id": "6imBXLyKwD6T"
      },
      "execution_count": null,
      "outputs": []
    }
  ]
}