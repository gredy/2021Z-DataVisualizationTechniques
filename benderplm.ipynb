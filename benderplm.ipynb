{
  "nbformat": 4,
  "nbformat_minor": 0,
  "metadata": {
    "colab": {
      "provenance": [],
      "authorship_tag": "ABX9TyNl1KcNd3Nsne05cjkQqBGC",
      "include_colab_link": true
    },
    "kernelspec": {
      "name": "python3",
      "display_name": "Python 3"
    },
    "language_info": {
      "name": "python"
    }
  },
  "cells": [
    {
      "cell_type": "markdown",
      "metadata": {
        "id": "view-in-github",
        "colab_type": "text"
      },
      "source": [
        "<a href=\"https://colab.research.google.com/github/gredy/2021Z-DataVisualizationTechniques/blob/master/benderplm.ipynb\" target=\"_parent\"><img src=\"https://colab.research.google.com/assets/colab-badge.svg\" alt=\"Open In Colab\"/></a>"
      ]
    },
    {
      "cell_type": "markdown",
      "source": [
        "Aquí hay un ejemplo de cómo podría escribirse un programa para resolver un problema de programación lineal mixta (PLM) utilizando la teoría de participación de Benders:"
      ],
      "metadata": {
        "id": "BG9cEwUfOvvy"
      }
    },
    {
      "cell_type": "markdown",
      "source": [
        "PLM solutions by Bender's Methods\n",
        "La teoría de participación de Benders es un enfoque para resolver problemas de programación lineal mixta (PLM), que son problemas que involucran tanto variables continuas como enteras. En un problema de PLM, se busca encontrar una solución óptima que maximice o minimice una función objetivo sujeta a una serie de restricciones.\n",
        "\n",
        "La teoría de participación de Benders es una técnica de resolución de problemas de PLM que divide el problema en dos partes: la primera parte se refiere a las variables continuas y la segunda parte se refiere a las variables enteras. La técnica de Benders consiste en resolver la parte de las variables continuas primero y luego utilizar esta solución para generar una restricción para la parte de las variables enteras. A continuación, se resuelve la parte de las variables enteras utilizando esta restricción adicional. Este proceso se repite iterativamente hasta que se encuentra una solución óptima.\n",
        "\n",
        "La teoría de participación de Benders es un enfoque eficiente para resolver problemas de PLM y ha sido ampliamente utilizado en una amplia variedad de aplicaciones, incluyendo la planificación de producción, la asignación de recursos y la optimización de la distribución.\n",
        "\n",
        "\n",
        "\n",
        "\n",
        "\n",
        "\n"
      ],
      "metadata": {
        "id": "1zZ2x8klN44J"
      }
    },
    {
      "cell_type": "code",
      "execution_count": 1,
      "metadata": {
        "colab": {
          "base_uri": "https://localhost:8080/"
        },
        "id": "m3t7waG1NaUK",
        "outputId": "33805f93-01da-4952-bf37-4618974d5367"
      },
      "outputs": [
        {
          "output_type": "stream",
          "name": "stdout",
          "text": [
            "[3.00000000e+00 9.79856140e-12 3.40998246e-11] 3.0000000001206377\n"
          ]
        },
        {
          "output_type": "stream",
          "name": "stderr",
          "text": [
            "<ipython-input-1-c2660013647d>:5: DeprecationWarning: `method='interior-point'` is deprecated and will be removed in SciPy 1.11.0. Please use one of the HiGHS solvers (e.g. `method='highs'`) in new code.\n",
            "  res = linprog(c, A_ub=A_ub, b_ub=b_ub, A_eq=A_eq, b_eq=b_eq, bounds=bounds, method='interior-point')\n"
          ]
        }
      ],
      "source": [
        "from scipy.optimize import linprog\n",
        "\n",
        "def solve_plm(c, A_ub, b_ub, A_eq, b_eq, bounds):\n",
        "  # Resolvemos la parte de las variables continuas del problema\n",
        "  res = linprog(c, A_ub=A_ub, b_ub=b_ub, A_eq=A_eq, b_eq=b_eq, bounds=bounds, method='interior-point')\n",
        "\n",
        "  # Si ya se ha encontrado una solución óptima, devolvemos los resultados\n",
        "  if res.success:\n",
        "    return res.x, res.fun\n",
        "\n",
        "  # Si no se ha encontrado una solución óptima, generamos una restricción adicional utilizando la solución de la parte de las variables continuas\n",
        "  A_ub = np.append(A_ub, [-res.fun], axis=0)\n",
        "  b_ub = np.append(b_ub, [0])\n",
        "\n",
        "  # Resolvemos la parte de las variables enteras del problema utilizando la restricción adicional\n",
        "  res = linprog(c, A_ub=A_ub, b_ub=b_ub, A_eq=A_eq, b_eq=b_eq, bounds=bounds, method='interior-point')\n",
        "\n",
        "  # Si ya se ha encontrado una solución óptima, devolvemos los resultados\n",
        "  if res.success:\n",
        "    return res.x, res.fun\n",
        "\n",
        "  # Si todavía no se ha encontrado una solución óptima, seguimos iterando el proceso\n",
        "  return solve_plm(c, A_ub, b_ub, A_eq, b_eq, bounds)\n",
        "\n",
        "# Ejemplo de uso del programa para resolver un problema de PLM\n",
        "c = [1, 4, 3]\n",
        "A_ub = [[-3, 1, 0], [1, 2, 3]]\n",
        "b_ub = [6, 4]\n",
        "A_eq = [[1, 1, 0]]\n",
        "b_eq = [3]\n",
        "bounds = [(0, None), (0, None), (0, None)]\n",
        "x, fun = solve_plm(c, A_ub, b_ub, A_eq, b_eq, bounds)\n",
        "print(x, fun)\n"
      ]
    }
  ]
}